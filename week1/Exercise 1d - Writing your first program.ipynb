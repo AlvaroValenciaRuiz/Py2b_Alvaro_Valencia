{
 "cells": [
  {
   "cell_type": "markdown",
   "id": "6252f4ac",
   "metadata": {},
   "source": [
    "# Exercise 1c - Writing your first program. "
   ]
  },
  {
   "cell_type": "markdown",
   "id": "e16d57f8",
   "metadata": {},
   "source": [
    "Hello and welcome to your first practical exercise with Jupyter Notebook. Your objective is to create a program that creates a meal using a list of ingredients. \n",
    "\n",
    "\n",
    "## Step One\n",
    "\n",
    "Run the cell below to create the *ingredients* list."
   ]
  },
  {
   "cell_type": "code",
   "execution_count": 37,
   "id": "ba4cbf80",
   "metadata": {},
   "outputs": [],
   "source": [
    "ingredients = [\"flour\", \"egg\", \"sugar\", \"milk\", \"salt\", \"water\", \"beef\", \"chicken\", \"peppers\", \"mushroom\", \"corn\", \"kebab\", \"rice\", \"beans\", \"peas\", \"turkey\", \"potato\", \"spinach\", \"mashed potatoes\", \"noodles\", \"ketchup\", \"almonds\", \"coconut\", \"beets\", \"strawberry\", \"apple\", \"shrimp\", \"garlic\", \"cheese\", \"onion\"]"
   ]
  },
  {
   "cell_type": "markdown",
   "id": "3efddeee",
   "metadata": {},
   "source": [
    "## Step Two\n",
    "\n",
    "We can now use the list *ingredients* to create our own custom meal. Create your meal below by creating a list of strings using at least 5 ingredients. The meal does not have to be yummy. \n",
    "**Hint:** use ingredients[x] where x is an integer between 0-29 to get an ingredient. "
   ]
  },
  {
   "cell_type": "code",
   "execution_count": 38,
   "id": "bab5a411",
   "metadata": {},
   "outputs": [
    {
     "name": "stdout",
     "output_type": "stream",
     "text": [
      "['egg', 'sugar', 'milk', 'salt', 'water']\n"
     ]
    }
   ],
   "source": [
    "meal = [] #TODO\n",
    "\n",
    "meal = [ingredients[1],ingredients[2],ingredients[3],ingredients[4],ingredients[5]]\n",
    "print(meal)\n",
    "    \n"
   ]
  },
  {
   "cell_type": "markdown",
   "id": "23fe3692",
   "metadata": {},
   "source": [
    "In the function *main* below, create a variable *meal_name*, which will represent the name of your meal. \n",
    "Then print *meal_name* and add a call to the *looper* function with your meal as an argument. We will complete the *looper* function in the next step.\n"
   ]
  },
  {
   "cell_type": "code",
   "execution_count": 39,
   "id": "f0f80c08",
   "metadata": {},
   "outputs": [],
   "source": [
    "def main(): #TODO\n",
    "    \n",
    "    meal_name = input(\"Please, enter the name of your meal:\")\n",
    "    print(f\"Your meal name is:\\n {meal_name}\")\n",
    "    looper(meal)"
   ]
  },
  {
   "cell_type": "markdown",
   "id": "240d1026",
   "metadata": {},
   "source": [
    "## Step Three\n",
    "\n",
    "The function *looper* will take a list *meal* as an argument, loop through it and print each element in the list. \n",
    "After the loop is done, add a call to the function *print_list* and complete that function as well. *print_list* takes the list *meal* as an argument and prints the whole list."
   ]
  },
  {
   "cell_type": "code",
   "execution_count": 40,
   "id": "47d7d7f7",
   "metadata": {},
   "outputs": [],
   "source": [
    "#print(meal)\n",
    "#print(type(meal))\n",
    "#print(type(meal[1]))\n",
    "#for i in meal:\n",
    "    #print(i)\n",
    "    #print(meal[i])\n",
    "\n",
    "def looper(meal): #TODO\n",
    "    for i in meal:\n",
    "        print(i)\n",
    "        \n",
    "    print_list(meal)"
   ]
  },
  {
   "cell_type": "code",
   "execution_count": 41,
   "id": "a6f45d51",
   "metadata": {},
   "outputs": [],
   "source": [
    "def print_list(meal): #TODO\n",
    "    print(meal)\n",
    "    "
   ]
  },
  {
   "cell_type": "markdown",
   "id": "812e8da4",
   "metadata": {},
   "source": [
    "## Step Four\n",
    "\n",
    "Finally, call the function *main* in the cell below and see what gets printed out. If you get an error, make sure that you have run all the necessary cells in the correct order before calling the *main* function. **Hint:** The function *main* calls the function *looper* which calls the function *print_list*. Make sure you have run the cells containing those functions before calling *main*. "
   ]
  },
  {
   "cell_type": "code",
   "execution_count": 42,
   "id": "6ed9f268",
   "metadata": {},
   "outputs": [
    {
     "name": "stdout",
     "output_type": "stream",
     "text": [
      "Please, enter the name of your meal:Carpazzio\n",
      "Your meal name is:\n",
      " Carpazzio\n",
      "egg\n",
      "sugar\n",
      "milk\n",
      "salt\n",
      "water\n",
      "['egg', 'sugar', 'milk', 'salt', 'water']\n"
     ]
    }
   ],
   "source": [
    "# TODO\n",
    "if __name__ == \"__main__\":\n",
    "    main()"
   ]
  },
  {
   "cell_type": "markdown",
   "id": "a19f1f83",
   "metadata": {},
   "source": [
    "## When you are done:\n",
    "\n",
    "Good job on completing this exercise! You have learned how to run Python code in Jupyter Notebook and hopefully understood how running cells work. "
   ]
  }
 ],
 "metadata": {
  "kernelspec": {
   "display_name": "Python 3 (ipykernel)",
   "language": "python",
   "name": "python3"
  },
  "language_info": {
   "codemirror_mode": {
    "name": "ipython",
    "version": 3
   },
   "file_extension": ".py",
   "mimetype": "text/x-python",
   "name": "python",
   "nbconvert_exporter": "python",
   "pygments_lexer": "ipython3",
   "version": "3.9.13"
  }
 },
 "nbformat": 4,
 "nbformat_minor": 5
}
